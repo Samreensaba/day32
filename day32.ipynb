{
 "cells": [
  {
   "cell_type": "code",
   "execution_count": 2,
   "id": "1fcbe92f-2d5d-4198-be36-4ec866364e78",
   "metadata": {},
   "outputs": [
    {
     "name": "stdout",
     "output_type": "stream",
     "text": [
      "おはよう\n"
     ]
    }
   ],
   "source": [
    "import random\n",
    "\n",
    "greetings = [\"Good Morning\", \"bonjour\", \"Shub Prabhat\", \"おはよう\", \"Guten Morgen\", \"Buenos Bias\", \"Buongiorno\", \"God Dag\"]\n",
    "\n",
    "index =  random.randint(0,7)\n",
    "\n",
    "def greet():\n",
    "  print(greetings[index])\n",
    "\n",
    "greet()"
   ]
  },
  {
   "cell_type": "code",
   "execution_count": null,
   "id": "b858d903-c971-4e38-a19e-edb493862f01",
   "metadata": {},
   "outputs": [],
   "source": []
  },
  {
   "cell_type": "code",
   "execution_count": null,
   "id": "a12ae672-863f-489d-a42c-f0b730d721dc",
   "metadata": {},
   "outputs": [],
   "source": []
  },
  {
   "cell_type": "code",
   "execution_count": null,
   "id": "de341310-c73a-4250-bcbf-989aab654aa3",
   "metadata": {},
   "outputs": [],
   "source": []
  }
 ],
 "metadata": {
  "kernelspec": {
   "display_name": "Python 3 (ipykernel)",
   "language": "python",
   "name": "python3"
  },
  "language_info": {
   "codemirror_mode": {
    "name": "ipython",
    "version": 3
   },
   "file_extension": ".py",
   "mimetype": "text/x-python",
   "name": "python",
   "nbconvert_exporter": "python",
   "pygments_lexer": "ipython3",
   "version": "3.12.4"
  }
 },
 "nbformat": 4,
 "nbformat_minor": 5
}
